{
 "cells": [
  {
   "cell_type": "code",
   "execution_count": 1,
   "id": "7ef12100",
   "metadata": {},
   "outputs": [],
   "source": [
    "import numpy\n",
    "import pandas\n",
    "import matplotlib.pyplot"
   ]
  },
  {
   "cell_type": "code",
   "execution_count": 2,
   "id": "a0a29c68",
   "metadata": {},
   "outputs": [],
   "source": [
    "columnnames= [\"normalization\", \"model\", \"fidelity\", \"u\", \"time\", \"N\", \"ups\", \"downs\", \"starting\", \"ending\", \"t\"]\n",
    "\n",
    "data= pandas.read_csv(\"maindata.txt\", sep= \" \", names= columnnames, header= None)"
   ]
  },
  {
   "cell_type": "code",
   "execution_count": 3,
   "id": "bbc21517",
   "metadata": {},
   "outputs": [],
   "source": [
    "rows= data[(data[\"N\"]== 6) & (data[\"fidelity\"]>= 0.995) & (data[\"starting\"]== \"0,0\")]"
   ]
  },
  {
   "cell_type": "code",
   "execution_count": 4,
   "id": "bea1b72f",
   "metadata": {},
   "outputs": [
    {
     "data": {
      "text/plain": [
       "Text(0.5, 1.0, 'N= 12, left to right, fidelity>=0.995')"
      ]
     },
     "execution_count": 4,
     "metadata": {},
     "output_type": "execute_result"
    },
    {
     "data": {
      "image/png": "[encoded data removed]",
      "text/plain": [
       "<Figure size 432x288 with 1 Axes>"
      ]
     },
     "metadata": {
      "needs_background": "light"
     },
     "output_type": "display_data"
    }
   ],
   "source": [
    "matplotlib.pyplot.scatter(rows[\"u\"], rows[\"fidelity\"])\n",
    "matplotlib.pyplot.xlabel(\"u\")\n",
    "matplotlib.pyplot.ylabel(\"fidelity\")\n",
    "matplotlib.pyplot.title(\"N= 12, left to right, fidelity>=0.995\")"
   ]
  },
  {
   "cell_type": "code",
   "execution_count": 5,
   "id": "cd649187",
   "metadata": {},
   "outputs": [
    {
     "name": "stdout",
     "output_type": "stream",
     "text": [
      "      normalization      model  fidelity          u       time  N  ups  downs  \\\n",
      "61    midChristandl    Hubbard  0.998553  96.405289  75.902661  6    1      1   \n",
      "65    midChristandl    Hubbard  0.995493   9.332384  28.728646  6    1      1   \n",
      "67    midChristandl    Hubbard  0.996841  17.763014  26.114467  6    1      1   \n",
      "71    midChristandl    Hubbard  0.997719  71.464664  55.440805  6    1      1   \n",
      "72    midChristandl    Hubbard  0.995327  94.255464  31.544262  6    1      1   \n",
      "74    midChristandl    Hubbard  0.995424  55.696338  48.984657  6    1      1   \n",
      "114   midChristandl    Hubbard  0.999026  89.596140  72.945608  6    1      1   \n",
      "116   midChristandl    Hubbard  0.996046  74.520381  24.732077  6    1      1   \n",
      "117   midChristandl    Hubbard  0.997429   1.332910  67.551655  6    1      1   \n",
      "118   midChristandl    Hubbard  0.995369   8.964526  28.498509  6    1      1   \n",
      "122   midChristandl    Hubbard  0.995756  96.599614  78.139166  6    1      1   \n",
      "514   midChristandl    Hubbard  0.996551  50.021914  42.247375  6    1      1   \n",
      "3168  midChristandl    Hubbard  0.995082  69.808182  61.669028  6    1      1   \n",
      "3218  midChristandl    Hubbard  0.996419  81.168033  62.086633  6    1      1   \n",
      "3224  midChristandl    Hubbard  0.995980  78.343432  93.153406  6    1      1   \n",
      "3243  midChristandl    Hubbard  0.997161  77.734255  59.940332  6    1      1   \n",
      "3250  midChristandl    Hubbard  0.995670  85.725600  98.310434  6    1      1   \n",
      "3252  midChristandl    Hubbard  0.998902  88.101744  70.711538  6    1      1   \n",
      "3256  midChristandl    Hubbard  0.998606  61.930869  49.661804  6    1      1   \n",
      "3267  midChristandl    Hubbard  0.995208  92.191382  86.156885  6    1      1   \n",
      "3297  midChristandl    Hubbard  0.995249  72.986281  68.208842  6    1      1   \n",
      "3298  midChristandl    Hubbard  0.997236  77.650892  59.843420  6    1      1   \n",
      "3306  midChristandl    Hubbard  0.997523   9.243637  28.663311  6    1      1   \n",
      "3673  midChristandl  Hubbard00  0.996021  11.086315  18.392897  6    1      1   \n",
      "\n",
      "     starting ending                                                  t  \n",
      "61        0,0    5,5  1.6562368717376508,5.238713969177031,3.0,5.238...  \n",
      "65        0,0    5,5  9.260481494755163,73.42403976766211,3.0,73.424...  \n",
      "67        0,0    5,5  10.067621276300478,75.41712330065678,3.0,75.41...  \n",
      "71        0,0    5,5  1.666835696878332,5.500978477488122,3.0,5.5009...  \n",
      "72        0,0    5,5  3.5696872064129628,12.317323693204862,3.0,12.3...  \n",
      "74        0,0    5,5  1.5765315651972451,3.7092242954250993,3.0,3.70...  \n",
      "114       0,0    5,5  1.631762327952327,4.540484646495737,3.0,4.5404...  \n",
      "116       0,0    5,5  3.5880796193079174,10.853454433011724,3.0,10.8...  \n",
      "117       0,0    5,5  12.064132772731934,77.46084245616025,3.0,77.46...  \n",
      "118       0,0    5,5  11.909699723533466,91.91953659210434,3.0,91.91...  \n",
      "122       0,0    5,5  1.89922901206415,53.30033875033283,3.0,53.3003...  \n",
      "514       0,0    5,5  1.604906638791305,4.040130359571202,3.0,4.0401...  \n",
      "3168      0,0    5,5  1.5730101437789117,3.686270257770852,3.0,3.686...  \n",
      "3218      0,0    5,5  1.6782238937848193,5.907585769552355,3.0,5.907...  \n",
      "3224      0,0    5,5  2.3343789375635495,37.767990626247816,3.0,37.7...  \n",
      "3243      0,0    5,5  1.6711035160676808,5.702548026764242,3.0,5.702...  \n",
      "3250      0,0    5,5  3.1239799990562065,42.4561634563922,3.0,42.456...  \n",
      "3252      0,0    5,5  1.6417934370052008,4.787174244930605,3.0,4.787...  \n",
      "3256      0,0    5,5  1.6408686940232937,4.818248079870161,3.0,4.818...  \n",
      "3267      0,0    5,5  1.530798586889184,3.3302411120697686,3.0,3.330...  \n",
      "3297      0,0    5,5  1.7618697604877929,40.648896060680876,3.0,40.6...  \n",
      "3298      0,0    5,5  1.6717148911993314,5.709045410258964,3.0,5.709...  \n",
      "3306      0,0    5,5  11.198440043408521,88.04689814210056,3.0,88.04...  \n",
      "3673      0,0    5,5  2.837585200063128,18.904779087041195,3.0,18.90...  \n"
     ]
    }
   ],
   "source": [
    "print(rows)"
   ]
  },
  {
   "cell_type": "code",
   "execution_count": 6,
   "id": "8d34e3ad",
   "metadata": {},
   "outputs": [
    {
     "data": {
      "text/plain": [
       "Text(0.5, 1.0, 'N= 12, left to right, fidelity>=0.995')"
      ]
     },
     "execution_count": 6,
     "metadata": {},
     "output_type": "execute_result"
    },
    {
     "data": {
      "image/png": "[encoded data removed]",
      "text/plain": [
       "<Figure size 432x288 with 1 Axes>"
      ]
     },
     "metadata": {
      "needs_background": "light"
     },
     "output_type": "display_data"
    }
   ],
   "source": [
    "dummy= rows[\"t\"].to_numpy()\n",
    "us= rows[\"u\"].to_numpy()\n",
    "tsums= []\n",
    "for j in range(len(dummy)):\n",
    "    tsums.append(sum([float(i) for i in dummy[j].split(\",\")]))\n",
    "tusums= tsums+ us\n",
    "matplotlib.pyplot.scatter(tsums, rows[\"fidelity\"])\n",
    "matplotlib.pyplot.xlabel(\"t sum\")\n",
    "matplotlib.pyplot.ylabel(\"fidelity\")\n",
    "matplotlib.pyplot.title(\"N= 12, left to right, fidelity>=0.995\")"
   ]
  },
  {
   "cell_type": "code",
   "execution_count": null,
   "id": "62aad09b",
   "metadata": {},
   "outputs": [],
   "source": []
  },
  {
   "cell_type": "code",
   "execution_count": null,
   "id": "596de888",
   "metadata": {},
   "outputs": [],
   "source": []
  }
 ],
 "metadata": {
  "kernelspec": {
   "display_name": "Python 3.10.5 64-bit",
   "language": "python",
   "name": "python3"
  },
  "language_info": {
   "codemirror_mode": {
    "name": "ipython",
    "version": 3
   },
   "file_extension": ".py",
   "mimetype": "text/x-python",
   "name": "python",
   "nbconvert_exporter": "python",
   "pygments_lexer": "ipython3",
   "version": "3.10.5"
  },
  "vscode": {
   "interpreter": {
    "hash": "aee8b7b246df8f9039afb4144a1f6fd8d2ca17a180786b69acc140d282b71a49"
   }
  }
 },
 "nbformat": 4,
 "nbformat_minor": 5
}

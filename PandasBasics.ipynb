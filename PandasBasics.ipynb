{
 "cells": [
  {
   "cell_type": "code",
   "execution_count": 7,
   "id": "7ef12100",
   "metadata": {},
   "outputs": [],
   "source": [
    "import numpy\n",
    "import pandas\n",
    "import matplotlib.pyplot"
   ]
  },
  {
   "cell_type": "code",
   "execution_count": 8,
   "id": "a0a29c68",
   "metadata": {},
   "outputs": [],
   "source": [
    "columnnames= [\"normalization\", \"model\", \"fidelity\", \"u\", \"time\", \"N\", \"ups\", \"downs\", \"starting\", \"ending\", \"t\"]\n",
    "\n",
    "data= pandas.read_csv(\"maindata.txt\", sep= \" \", names= columnnames, header= None)"
   ]
  },
  {
   "cell_type": "code",
   "execution_count": 9,
   "id": "bbc21517",
   "metadata": {},
   "outputs": [],
   "source": [
    "rows= data[(data[\"N\"]== 6) & (data[\"fidelity\"]>= 0.999) & (data[\"starting\"]== \"0,0\")]"
   ]
  },
  {
   "cell_type": "code",
   "execution_count": 10,
   "id": "bea1b72f",
   "metadata": {},
   "outputs": [
    {
     "data": {
      "text/plain": [
       "Text(0.5, 1.0, 'N= 12, left to right, fidelity>=0.995')"
      ]
     },
     "execution_count": 10,
     "metadata": {},
     "output_type": "execute_result"
    },
    {
     "data": {
      "image/png": "[encoded data removed]",
      "text/plain": [
       "<Figure size 432x288 with 1 Axes>"
      ]
     },
     "metadata": {
      "needs_background": "light"
     },
     "output_type": "display_data"
    }
   ],
   "source": [
    "matplotlib.pyplot.scatter(rows[\"u\"], rows[\"fidelity\"])\n",
    "matplotlib.pyplot.xlabel(\"u\")\n",
    "matplotlib.pyplot.ylabel(\"fidelity\")\n",
    "matplotlib.pyplot.title(\"N= 12, left to right, fidelity>=0.995\")"
   ]
  },
  {
   "cell_type": "code",
   "execution_count": 14,
   "id": "cd649187",
   "metadata": {},
   "outputs": [
    {
     "name": "stdout",
     "output_type": "stream",
     "text": [
      "     normalization    model  fidelity         u       time  N  ups  downs  \\\n",
      "114  midChristandl  Hubbard  0.999026  89.59614  72.945608  6    1      1   \n",
      "\n",
      "    starting ending                                                  t  \n",
      "114      0,0    5,5  1.631762327952327,4.540484646495737,3.0,4.5404...  \n"
     ]
    }
   ],
   "source": [
    "print(rows)"
   ]
  },
  {
   "cell_type": "code",
   "execution_count": 12,
   "id": "8d34e3ad",
   "metadata": {},
   "outputs": [
    {
     "data": {
      "text/plain": [
       "Text(0.5, 1.0, 'N= 12, left to right, fidelity>=0.995')"
      ]
     },
     "execution_count": 12,
     "metadata": {},
     "output_type": "execute_result"
    },
    {
     "data": {
      "image/png": "[encoded data removed]",
      "text/plain": [
       "<Figure size 432x288 with 1 Axes>"
      ]
     },
     "metadata": {
      "needs_background": "light"
     },
     "output_type": "display_data"
    }
   ],
   "source": [
    "dummy= rows[\"t\"].to_numpy()\n",
    "us= rows[\"u\"].to_numpy()\n",
    "tsums= []\n",
    "for j in range(len(dummy)):\n",
    "    tsums.append(sum([float(i) for i in dummy[j].split(\",\")]))\n",
    "tusums= tsums+ us\n",
    "matplotlib.pyplot.scatter(tsums, rows[\"fidelity\"])\n",
    "matplotlib.pyplot.xlabel(\"t sum\")\n",
    "matplotlib.pyplot.ylabel(\"fidelity\")\n",
    "matplotlib.pyplot.title(\"N= 12, left to right, fidelity>=0.995\")"
   ]
  },
  {
   "cell_type": "code",
   "execution_count": null,
   "id": "62aad09b",
   "metadata": {},
   "outputs": [],
   "source": []
  },
  {
   "cell_type": "code",
   "execution_count": null,
   "id": "596de888",
   "metadata": {},
   "outputs": [],
   "source": []
  }
 ],
 "metadata": {
  "kernelspec": {
   "display_name": "Python 3.10.5 64-bit",
   "language": "python",
   "name": "python3"
  },
  "language_info": {
   "codemirror_mode": {
    "name": "ipython",
    "version": 3
   },
   "file_extension": ".py",
   "mimetype": "text/x-python",
   "name": "python",
   "nbconvert_exporter": "python",
   "pygments_lexer": "ipython3",
   "version": "3.10.5"
  },
  "vscode": {
   "interpreter": {
    "hash": "aee8b7b246df8f9039afb4144a1f6fd8d2ca17a180786b69acc140d282b71a49"
   }
  }
 },
 "nbformat": 4,
 "nbformat_minor": 5
}

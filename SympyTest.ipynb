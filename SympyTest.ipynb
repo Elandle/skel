{
 "cells": [
  {
   "cell_type": "code",
   "execution_count": 1,
   "id": "3510ef7b",
   "metadata": {},
   "outputs": [],
   "source": [
    "import numpy\n",
    "import itertools\n",
    "import copy\n",
    "import scipy.linalg\n",
    "import scipy.optimize\n",
    "import sympy\n",
    "import matplotlib.pyplot\n",
    "import sympy.matrices"
   ]
  },
  {
   "cell_type": "code",
   "execution_count": 2,
   "id": "0a13da69",
   "metadata": {},
   "outputs": [],
   "source": [
    "def repeat(x, i, j):\n",
    "    setx= set(x[i: j])\n",
    "    return len(x[i: j])!= len(setx)\n",
    "def permuted(x, y):\n",
    "    upxset= set(x[:u])\n",
    "    upyset= set(y[:u])\n",
    "    downxset= set(x[u: u+ d])\n",
    "    downyset= set(y[u: u+ d])\n",
    "    return upxset==upyset and downxset==downyset\n",
    "def sortstate(s):\n",
    "    ss= copy.copy(s)\n",
    "    sortups= ss[:u]\n",
    "    sortups.sort()\n",
    "    sortdowns= ss[u: u+ d]\n",
    "    sortdowns.sort()\n",
    "    return sortups+ sortdowns\n",
    "def makestates():\n",
    "    x= [i for i in range(N)]\n",
    "    z= itertools.product(x, repeat= u+ d)\n",
    "    z= list(z)\n",
    "    for a in z[:]:\n",
    "        if(repeat(a, 0, u) or repeat(a, u, u+ d)): z.remove(a)\n",
    "    dummyz= z        \n",
    "    for a in dummyz:\n",
    "        for b in dummyz:\n",
    "            if((a!=b) and permuted(a, b)):\n",
    "                z.remove(b)\n",
    "    states= [list(a) for a in z]\n",
    "    sorting= [sortstate(a) for a in states]\n",
    "    sorting.sort()\n",
    "    states= sorting\n",
    "    states= [list(s) for s in set(tuple(ss) for ss in states)]\n",
    "    sorting= [sortstate(a) for a in states]\n",
    "    sorting.sort()\n",
    "    states= sorting\n",
    "    return states\n",
    "def makebasis(states):\n",
    "    basis= []\n",
    "    for a in states:\n",
    "        x= [0 for i in range(2*N)]\n",
    "        for i in range(u):\n",
    "            x[a[i]]= x[a[i]]+ 1\n",
    "        for i in range(d):\n",
    "            x[N+ a[u+ i]]= x[N+ a[u+ i]]+ 1\n",
    "        basis.append(x)\n",
    "    return basis\n",
    "def sindex(s):\n",
    "    ss= copy.copy(s)\n",
    "    ss= sortstate(ss)\n",
    "    return states.index(ss)"
   ]
  },
  {
   "cell_type": "code",
   "execution_count": 3,
   "id": "61b4251d",
   "metadata": {},
   "outputs": [],
   "source": [
    "def hammer(t, e):\n",
    "    hammil= sympy.zeros(slength)\n",
    "    for ii in range(slength):\n",
    "        st= copy.copy(states[ii])\n",
    "        for a in itertools.product(range(u+ d), range(2)):\n",
    "            new= copy.copy(st)\n",
    "            newentry= 0\n",
    "            if(0< st[a[0]]< N and a[1]== 0):\n",
    "                new[a[0]]= new[a[0]]- 1\n",
    "                newentry= t[st[a[0]]- 1]\n",
    "            elif(st[a[0]]< N-1 and a[1]== 1):\n",
    "                new[a[0]]= new[a[0]]+ 1\n",
    "                newentry= t[st[a[0]]]\n",
    "            new= sortstate(new)\n",
    "            if new in states:\n",
    "                hammil[ii, sindex(new)]= -newentry\n",
    "        for jj in range(u):\n",
    "            if st[jj] in st[u: u+ d]: hammil[ii, ii]= hammil[ii, ii]+ e\n",
    "    return hammil"
   ]
  },
  {
   "cell_type": "code",
   "execution_count": 23,
   "id": "2285b4e3",
   "metadata": {},
   "outputs": [],
   "source": [
    "N= 3\n",
    "u= 1\n",
    "d= 1\n",
    "t0, t1, t2= sympy.symbols(\"t0 t1 t2\")\n",
    "t= [t0, t1]\n",
    "e= sympy.symbols(\"e\")\n",
    "time= sympy.symbols(\"t\")\n",
    "\n",
    "starting= [0, 0]\n",
    "ending= [N- 1, N- 1]\n",
    "\n",
    "\n",
    "states= makestates()\n",
    "slength= len(states)\n",
    "basis= makebasis(states)\n",
    "initial= numpy.zeros(slength)\n",
    "initial[sindex(starting)]= 1\n",
    "state= sindex(ending) "
   ]
  },
  {
   "cell_type": "code",
   "execution_count": 24,
   "id": "b9e41832",
   "metadata": {},
   "outputs": [],
   "source": [
    "H= hammer(t, e)\n",
    "H= -1j*time*H"
   ]
  },
  {
   "cell_type": "code",
   "execution_count": null,
   "id": "ace091f3",
   "metadata": {},
   "outputs": [],
   "source": [
    "exp= sympy.exp(H)"
   ]
  },
  {
   "cell_type": "code",
   "execution_count": 8,
   "id": "da249646",
   "metadata": {},
   "outputs": [
    {
     "data": {
      "text/latex": [
       "$\\displaystyle \\left[\\begin{matrix}\\frac{1.0 \\left(- 0.0625 i e + 0.25 \\left(- 0.0625 e^{2} - t_{0}^{2}\\right)^{0.5}\\right) e^{- 0.5 i e t + 2.0 t \\left(- 0.0625 e^{2} - t_{0}^{2}\\right)^{0.5}}}{\\left(- 0.0625 e^{2} - t_{0}^{2}\\right)^{0.5}} + \\frac{1.0 \\cdot \\left(0.0625 i e + 0.25 \\left(- 0.0625 e^{2} - t_{0}^{2}\\right)^{0.5}\\right) e^{- 0.5 i e t - 2.0 t \\left(- 0.0625 e^{2} - t_{0}^{2}\\right)^{0.5}}}{\\left(- 0.0625 e^{2} - t_{0}^{2}\\right)^{0.5}} + 0.5 e^{- i e t} & - \\frac{0.25 i t_{0} e^{- 0.5 i e t - 2.0 t \\left(- 0.0625 e^{2} - t_{0}^{2}\\right)^{0.5}}}{\\left(- 0.0625 e^{2} - t_{0}^{2}\\right)^{0.5}} + \\frac{0.25 i t_{0} e^{- 0.5 i e t + 2.0 t \\left(- 0.0625 e^{2} - t_{0}^{2}\\right)^{0.5}}}{\\left(- 0.0625 e^{2} - t_{0}^{2}\\right)^{0.5}} & - \\frac{0.25 i t_{0} e^{- 0.5 i e t - 2.0 t \\left(- 0.0625 e^{2} - t_{0}^{2}\\right)^{0.5}}}{\\left(- 0.0625 e^{2} - t_{0}^{2}\\right)^{0.5}} + \\frac{0.25 i t_{0} e^{- 0.5 i e t + 2.0 t \\left(- 0.0625 e^{2} - t_{0}^{2}\\right)^{0.5}}}{\\left(- 0.0625 e^{2} - t_{0}^{2}\\right)^{0.5}} & \\frac{1.0 \\left(- 0.0625 i e + 0.25 \\left(- 0.0625 e^{2} - t_{0}^{2}\\right)^{0.5}\\right) e^{- 0.5 i e t + 2.0 t \\left(- 0.0625 e^{2} - t_{0}^{2}\\right)^{0.5}}}{\\left(- 0.0625 e^{2} - t_{0}^{2}\\right)^{0.5}} + \\frac{1.0 \\cdot \\left(0.0625 i e + 0.25 \\left(- 0.0625 e^{2} - t_{0}^{2}\\right)^{0.5}\\right) e^{- 0.5 i e t - 2.0 t \\left(- 0.0625 e^{2} - t_{0}^{2}\\right)^{0.5}}}{\\left(- 0.0625 e^{2} - t_{0}^{2}\\right)^{0.5}} - 0.5 e^{- i e t}\\\\- \\frac{0.25 \\left(- e - 4.0 i \\left(- 0.0625 e^{2} - t_{0}^{2}\\right)^{0.5}\\right) \\left(0.0625 i e + 0.25 \\left(- 0.0625 e^{2} - t_{0}^{2}\\right)^{0.5}\\right) e^{- 0.5 i e t - 2.0 t \\left(- 0.0625 e^{2} - t_{0}^{2}\\right)^{0.5}}}{t_{0} \\left(- 0.0625 e^{2} - t_{0}^{2}\\right)^{0.5}} - \\frac{0.25 \\left(- e + 4.0 i \\left(- 0.0625 e^{2} - t_{0}^{2}\\right)^{0.5}\\right) \\left(- 0.0625 i e + 0.25 \\left(- 0.0625 e^{2} - t_{0}^{2}\\right)^{0.5}\\right) e^{- 0.5 i e t + 2.0 t \\left(- 0.0625 e^{2} - t_{0}^{2}\\right)^{0.5}}}{t_{0} \\left(- 0.0625 e^{2} - t_{0}^{2}\\right)^{0.5}} & \\frac{0.0625 i \\left(- e - 4.0 i \\left(- 0.0625 e^{2} - t_{0}^{2}\\right)^{0.5}\\right) e^{- 0.5 i e t - 2.0 t \\left(- 0.0625 e^{2} - t_{0}^{2}\\right)^{0.5}}}{\\left(- 0.0625 e^{2} - t_{0}^{2}\\right)^{0.5}} - \\frac{0.0625 i \\left(- e + 4.0 i \\left(- 0.0625 e^{2} - t_{0}^{2}\\right)^{0.5}\\right) e^{- 0.5 i e t + 2.0 t \\left(- 0.0625 e^{2} - t_{0}^{2}\\right)^{0.5}}}{\\left(- 0.0625 e^{2} - t_{0}^{2}\\right)^{0.5}} + 0.5 & \\frac{0.0625 i \\left(- e - 4.0 i \\left(- 0.0625 e^{2} - t_{0}^{2}\\right)^{0.5}\\right) e^{- 0.5 i e t - 2.0 t \\left(- 0.0625 e^{2} - t_{0}^{2}\\right)^{0.5}}}{\\left(- 0.0625 e^{2} - t_{0}^{2}\\right)^{0.5}} - \\frac{0.0625 i \\left(- e + 4.0 i \\left(- 0.0625 e^{2} - t_{0}^{2}\\right)^{0.5}\\right) e^{- 0.5 i e t + 2.0 t \\left(- 0.0625 e^{2} - t_{0}^{2}\\right)^{0.5}}}{\\left(- 0.0625 e^{2} - t_{0}^{2}\\right)^{0.5}} - 0.5 & - \\frac{0.25 \\left(- e - 4.0 i \\left(- 0.0625 e^{2} - t_{0}^{2}\\right)^{0.5}\\right) \\left(0.0625 i e + 0.25 \\left(- 0.0625 e^{2} - t_{0}^{2}\\right)^{0.5}\\right) e^{- 0.5 i e t - 2.0 t \\left(- 0.0625 e^{2} - t_{0}^{2}\\right)^{0.5}}}{t_{0} \\left(- 0.0625 e^{2} - t_{0}^{2}\\right)^{0.5}} - \\frac{0.25 \\left(- e + 4.0 i \\left(- 0.0625 e^{2} - t_{0}^{2}\\right)^{0.5}\\right) \\left(- 0.0625 i e + 0.25 \\left(- 0.0625 e^{2} - t_{0}^{2}\\right)^{0.5}\\right) e^{- 0.5 i e t + 2.0 t \\left(- 0.0625 e^{2} - t_{0}^{2}\\right)^{0.5}}}{t_{0} \\left(- 0.0625 e^{2} - t_{0}^{2}\\right)^{0.5}}\\\\- \\frac{0.25 \\left(- e - 4.0 i \\left(- 0.0625 e^{2} - t_{0}^{2}\\right)^{0.5}\\right) \\left(0.0625 i e + 0.25 \\left(- 0.0625 e^{2} - t_{0}^{2}\\right)^{0.5}\\right) e^{- 0.5 i e t - 2.0 t \\left(- 0.0625 e^{2} - t_{0}^{2}\\right)^{0.5}}}{t_{0} \\left(- 0.0625 e^{2} - t_{0}^{2}\\right)^{0.5}} - \\frac{0.25 \\left(- e + 4.0 i \\left(- 0.0625 e^{2} - t_{0}^{2}\\right)^{0.5}\\right) \\left(- 0.0625 i e + 0.25 \\left(- 0.0625 e^{2} - t_{0}^{2}\\right)^{0.5}\\right) e^{- 0.5 i e t + 2.0 t \\left(- 0.0625 e^{2} - t_{0}^{2}\\right)^{0.5}}}{t_{0} \\left(- 0.0625 e^{2} - t_{0}^{2}\\right)^{0.5}} & \\frac{0.0625 i \\left(- e - 4.0 i \\left(- 0.0625 e^{2} - t_{0}^{2}\\right)^{0.5}\\right) e^{- 0.5 i e t - 2.0 t \\left(- 0.0625 e^{2} - t_{0}^{2}\\right)^{0.5}}}{\\left(- 0.0625 e^{2} - t_{0}^{2}\\right)^{0.5}} - \\frac{0.0625 i \\left(- e + 4.0 i \\left(- 0.0625 e^{2} - t_{0}^{2}\\right)^{0.5}\\right) e^{- 0.5 i e t + 2.0 t \\left(- 0.0625 e^{2} - t_{0}^{2}\\right)^{0.5}}}{\\left(- 0.0625 e^{2} - t_{0}^{2}\\right)^{0.5}} - 0.5 & \\frac{0.0625 i \\left(- e - 4.0 i \\left(- 0.0625 e^{2} - t_{0}^{2}\\right)^{0.5}\\right) e^{- 0.5 i e t - 2.0 t \\left(- 0.0625 e^{2} - t_{0}^{2}\\right)^{0.5}}}{\\left(- 0.0625 e^{2} - t_{0}^{2}\\right)^{0.5}} - \\frac{0.0625 i \\left(- e + 4.0 i \\left(- 0.0625 e^{2} - t_{0}^{2}\\right)^{0.5}\\right) e^{- 0.5 i e t + 2.0 t \\left(- 0.0625 e^{2} - t_{0}^{2}\\right)^{0.5}}}{\\left(- 0.0625 e^{2} - t_{0}^{2}\\right)^{0.5}} + 0.5 & - \\frac{0.25 \\left(- e - 4.0 i \\left(- 0.0625 e^{2} - t_{0}^{2}\\right)^{0.5}\\right) \\left(0.0625 i e + 0.25 \\left(- 0.0625 e^{2} - t_{0}^{2}\\right)^{0.5}\\right) e^{- 0.5 i e t - 2.0 t \\left(- 0.0625 e^{2} - t_{0}^{2}\\right)^{0.5}}}{t_{0} \\left(- 0.0625 e^{2} - t_{0}^{2}\\right)^{0.5}} - \\frac{0.25 \\left(- e + 4.0 i \\left(- 0.0625 e^{2} - t_{0}^{2}\\right)^{0.5}\\right) \\left(- 0.0625 i e + 0.25 \\left(- 0.0625 e^{2} - t_{0}^{2}\\right)^{0.5}\\right) e^{- 0.5 i e t + 2.0 t \\left(- 0.0625 e^{2} - t_{0}^{2}\\right)^{0.5}}}{t_{0} \\left(- 0.0625 e^{2} - t_{0}^{2}\\right)^{0.5}}\\\\\\frac{1.0 \\left(- 0.0625 i e + 0.25 \\left(- 0.0625 e^{2} - t_{0}^{2}\\right)^{0.5}\\right) e^{- 0.5 i e t + 2.0 t \\left(- 0.0625 e^{2} - t_{0}^{2}\\right)^{0.5}}}{\\left(- 0.0625 e^{2} - t_{0}^{2}\\right)^{0.5}} + \\frac{1.0 \\cdot \\left(0.0625 i e + 0.25 \\left(- 0.0625 e^{2} - t_{0}^{2}\\right)^{0.5}\\right) e^{- 0.5 i e t - 2.0 t \\left(- 0.0625 e^{2} - t_{0}^{2}\\right)^{0.5}}}{\\left(- 0.0625 e^{2} - t_{0}^{2}\\right)^{0.5}} - 0.5 e^{- i e t} & - \\frac{0.25 i t_{0} e^{- 0.5 i e t - 2.0 t \\left(- 0.0625 e^{2} - t_{0}^{2}\\right)^{0.5}}}{\\left(- 0.0625 e^{2} - t_{0}^{2}\\right)^{0.5}} + \\frac{0.25 i t_{0} e^{- 0.5 i e t + 2.0 t \\left(- 0.0625 e^{2} - t_{0}^{2}\\right)^{0.5}}}{\\left(- 0.0625 e^{2} - t_{0}^{2}\\right)^{0.5}} & - \\frac{0.25 i t_{0} e^{- 0.5 i e t - 2.0 t \\left(- 0.0625 e^{2} - t_{0}^{2}\\right)^{0.5}}}{\\left(- 0.0625 e^{2} - t_{0}^{2}\\right)^{0.5}} + \\frac{0.25 i t_{0} e^{- 0.5 i e t + 2.0 t \\left(- 0.0625 e^{2} - t_{0}^{2}\\right)^{0.5}}}{\\left(- 0.0625 e^{2} - t_{0}^{2}\\right)^{0.5}} & \\frac{1.0 \\left(- 0.0625 i e + 0.25 \\left(- 0.0625 e^{2} - t_{0}^{2}\\right)^{0.5}\\right) e^{- 0.5 i e t + 2.0 t \\left(- 0.0625 e^{2} - t_{0}^{2}\\right)^{0.5}}}{\\left(- 0.0625 e^{2} - t_{0}^{2}\\right)^{0.5}} + \\frac{1.0 \\cdot \\left(0.0625 i e + 0.25 \\left(- 0.0625 e^{2} - t_{0}^{2}\\right)^{0.5}\\right) e^{- 0.5 i e t - 2.0 t \\left(- 0.0625 e^{2} - t_{0}^{2}\\right)^{0.5}}}{\\left(- 0.0625 e^{2} - t_{0}^{2}\\right)^{0.5}} + 0.5 e^{- i e t}\\end{matrix}\\right]$"
      ],
      "text/plain": [
       "Matrix([\n",
       "[                                                                             1.0*(-0.0625*I*e + 0.25*(-0.0625*e**2 - t0**2)**0.5)*exp(-0.5*I*e*t + 2.0*t*(-0.0625*e**2 - t0**2)**0.5)/(-0.0625*e**2 - t0**2)**0.5 + 1.0*(0.0625*I*e + 0.25*(-0.0625*e**2 - t0**2)**0.5)*exp(-0.5*I*e*t - 2.0*t*(-0.0625*e**2 - t0**2)**0.5)/(-0.0625*e**2 - t0**2)**0.5 + 0.5*exp(-I*e*t),                                                                                      -0.25*I*t0*exp(-0.5*I*e*t - 2.0*t*(-0.0625*e**2 - t0**2)**0.5)/(-0.0625*e**2 - t0**2)**0.5 + 0.25*I*t0*exp(-0.5*I*e*t + 2.0*t*(-0.0625*e**2 - t0**2)**0.5)/(-0.0625*e**2 - t0**2)**0.5,                                                                                      -0.25*I*t0*exp(-0.5*I*e*t - 2.0*t*(-0.0625*e**2 - t0**2)**0.5)/(-0.0625*e**2 - t0**2)**0.5 + 0.25*I*t0*exp(-0.5*I*e*t + 2.0*t*(-0.0625*e**2 - t0**2)**0.5)/(-0.0625*e**2 - t0**2)**0.5,                                                                              1.0*(-0.0625*I*e + 0.25*(-0.0625*e**2 - t0**2)**0.5)*exp(-0.5*I*e*t + 2.0*t*(-0.0625*e**2 - t0**2)**0.5)/(-0.0625*e**2 - t0**2)**0.5 + 1.0*(0.0625*I*e + 0.25*(-0.0625*e**2 - t0**2)**0.5)*exp(-0.5*I*e*t - 2.0*t*(-0.0625*e**2 - t0**2)**0.5)/(-0.0625*e**2 - t0**2)**0.5 - 0.5*exp(-I*e*t)],\n",
       "[-0.25*(-e - 4.0*I*(-0.0625*e**2 - t0**2)**0.5)*(0.0625*I*e + 0.25*(-0.0625*e**2 - t0**2)**0.5)*exp(-0.5*I*e*t - 2.0*t*(-0.0625*e**2 - t0**2)**0.5)/(t0*(-0.0625*e**2 - t0**2)**0.5) - 0.25*(-e + 4.0*I*(-0.0625*e**2 - t0**2)**0.5)*(-0.0625*I*e + 0.25*(-0.0625*e**2 - t0**2)**0.5)*exp(-0.5*I*e*t + 2.0*t*(-0.0625*e**2 - t0**2)**0.5)/(t0*(-0.0625*e**2 - t0**2)**0.5), 0.0625*I*(-e - 4.0*I*(-0.0625*e**2 - t0**2)**0.5)*exp(-0.5*I*e*t - 2.0*t*(-0.0625*e**2 - t0**2)**0.5)/(-0.0625*e**2 - t0**2)**0.5 - 0.0625*I*(-e + 4.0*I*(-0.0625*e**2 - t0**2)**0.5)*exp(-0.5*I*e*t + 2.0*t*(-0.0625*e**2 - t0**2)**0.5)/(-0.0625*e**2 - t0**2)**0.5 + 0.5, 0.0625*I*(-e - 4.0*I*(-0.0625*e**2 - t0**2)**0.5)*exp(-0.5*I*e*t - 2.0*t*(-0.0625*e**2 - t0**2)**0.5)/(-0.0625*e**2 - t0**2)**0.5 - 0.0625*I*(-e + 4.0*I*(-0.0625*e**2 - t0**2)**0.5)*exp(-0.5*I*e*t + 2.0*t*(-0.0625*e**2 - t0**2)**0.5)/(-0.0625*e**2 - t0**2)**0.5 - 0.5, -0.25*(-e - 4.0*I*(-0.0625*e**2 - t0**2)**0.5)*(0.0625*I*e + 0.25*(-0.0625*e**2 - t0**2)**0.5)*exp(-0.5*I*e*t - 2.0*t*(-0.0625*e**2 - t0**2)**0.5)/(t0*(-0.0625*e**2 - t0**2)**0.5) - 0.25*(-e + 4.0*I*(-0.0625*e**2 - t0**2)**0.5)*(-0.0625*I*e + 0.25*(-0.0625*e**2 - t0**2)**0.5)*exp(-0.5*I*e*t + 2.0*t*(-0.0625*e**2 - t0**2)**0.5)/(t0*(-0.0625*e**2 - t0**2)**0.5)],\n",
       "[-0.25*(-e - 4.0*I*(-0.0625*e**2 - t0**2)**0.5)*(0.0625*I*e + 0.25*(-0.0625*e**2 - t0**2)**0.5)*exp(-0.5*I*e*t - 2.0*t*(-0.0625*e**2 - t0**2)**0.5)/(t0*(-0.0625*e**2 - t0**2)**0.5) - 0.25*(-e + 4.0*I*(-0.0625*e**2 - t0**2)**0.5)*(-0.0625*I*e + 0.25*(-0.0625*e**2 - t0**2)**0.5)*exp(-0.5*I*e*t + 2.0*t*(-0.0625*e**2 - t0**2)**0.5)/(t0*(-0.0625*e**2 - t0**2)**0.5), 0.0625*I*(-e - 4.0*I*(-0.0625*e**2 - t0**2)**0.5)*exp(-0.5*I*e*t - 2.0*t*(-0.0625*e**2 - t0**2)**0.5)/(-0.0625*e**2 - t0**2)**0.5 - 0.0625*I*(-e + 4.0*I*(-0.0625*e**2 - t0**2)**0.5)*exp(-0.5*I*e*t + 2.0*t*(-0.0625*e**2 - t0**2)**0.5)/(-0.0625*e**2 - t0**2)**0.5 - 0.5, 0.0625*I*(-e - 4.0*I*(-0.0625*e**2 - t0**2)**0.5)*exp(-0.5*I*e*t - 2.0*t*(-0.0625*e**2 - t0**2)**0.5)/(-0.0625*e**2 - t0**2)**0.5 - 0.0625*I*(-e + 4.0*I*(-0.0625*e**2 - t0**2)**0.5)*exp(-0.5*I*e*t + 2.0*t*(-0.0625*e**2 - t0**2)**0.5)/(-0.0625*e**2 - t0**2)**0.5 + 0.5, -0.25*(-e - 4.0*I*(-0.0625*e**2 - t0**2)**0.5)*(0.0625*I*e + 0.25*(-0.0625*e**2 - t0**2)**0.5)*exp(-0.5*I*e*t - 2.0*t*(-0.0625*e**2 - t0**2)**0.5)/(t0*(-0.0625*e**2 - t0**2)**0.5) - 0.25*(-e + 4.0*I*(-0.0625*e**2 - t0**2)**0.5)*(-0.0625*I*e + 0.25*(-0.0625*e**2 - t0**2)**0.5)*exp(-0.5*I*e*t + 2.0*t*(-0.0625*e**2 - t0**2)**0.5)/(t0*(-0.0625*e**2 - t0**2)**0.5)],\n",
       "[                                                                             1.0*(-0.0625*I*e + 0.25*(-0.0625*e**2 - t0**2)**0.5)*exp(-0.5*I*e*t + 2.0*t*(-0.0625*e**2 - t0**2)**0.5)/(-0.0625*e**2 - t0**2)**0.5 + 1.0*(0.0625*I*e + 0.25*(-0.0625*e**2 - t0**2)**0.5)*exp(-0.5*I*e*t - 2.0*t*(-0.0625*e**2 - t0**2)**0.5)/(-0.0625*e**2 - t0**2)**0.5 - 0.5*exp(-I*e*t),                                                                                      -0.25*I*t0*exp(-0.5*I*e*t - 2.0*t*(-0.0625*e**2 - t0**2)**0.5)/(-0.0625*e**2 - t0**2)**0.5 + 0.25*I*t0*exp(-0.5*I*e*t + 2.0*t*(-0.0625*e**2 - t0**2)**0.5)/(-0.0625*e**2 - t0**2)**0.5,                                                                                      -0.25*I*t0*exp(-0.5*I*e*t - 2.0*t*(-0.0625*e**2 - t0**2)**0.5)/(-0.0625*e**2 - t0**2)**0.5 + 0.25*I*t0*exp(-0.5*I*e*t + 2.0*t*(-0.0625*e**2 - t0**2)**0.5)/(-0.0625*e**2 - t0**2)**0.5,                                                                              1.0*(-0.0625*I*e + 0.25*(-0.0625*e**2 - t0**2)**0.5)*exp(-0.5*I*e*t + 2.0*t*(-0.0625*e**2 - t0**2)**0.5)/(-0.0625*e**2 - t0**2)**0.5 + 1.0*(0.0625*I*e + 0.25*(-0.0625*e**2 - t0**2)**0.5)*exp(-0.5*I*e*t - 2.0*t*(-0.0625*e**2 - t0**2)**0.5)/(-0.0625*e**2 - t0**2)**0.5 + 0.5*exp(-I*e*t)]])"
      ]
     },
     "execution_count": 8,
     "metadata": {},
     "output_type": "execute_result"
    }
   ],
   "source": [
    "exp"
   ]
  },
  {
   "cell_type": "code",
   "execution_count": 22,
   "id": "12710490",
   "metadata": {},
   "outputs": [
    {
     "data": {
      "text/latex": [
       "$\\displaystyle 0$"
      ],
      "text/plain": [
       "0"
      ]
     },
     "execution_count": 22,
     "metadata": {},
     "output_type": "execute_result"
    }
   ],
   "source": [
    "initial= sympy.zeros(slength, 1)\n",
    "initial[sindex(starting)]= 1\n",
    "squareabs = lambda x: abs(x**2)\n",
    "(H*initial).applyfunc(squareabs)[sindex(ending)]"
   ]
  },
  {
   "cell_type": "code",
   "execution_count": null,
   "id": "ce41e6fa",
   "metadata": {},
   "outputs": [],
   "source": []
  }
 ],
 "metadata": {
  "kernelspec": {
   "display_name": "Python 3.10.5 64-bit",
   "language": "python",
   "name": "python3"
  },
  "language_info": {
   "codemirror_mode": {
    "name": "ipython",
    "version": 3
   },
   "file_extension": ".py",
   "mimetype": "text/x-python",
   "name": "python",
   "nbconvert_exporter": "python",
   "pygments_lexer": "ipython3",
   "version": "3.10.5"
  },
  "vscode": {
   "interpreter": {
    "hash": "aee8b7b246df8f9039afb4144a1f6fd8d2ca17a180786b69acc140d282b71a49"
   }
  }
 },
 "nbformat": 4,
 "nbformat_minor": 5
}
